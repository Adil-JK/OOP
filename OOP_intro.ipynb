{
 "cells": [
  {
   "cell_type": "code",
   "execution_count": 1,
   "metadata": {},
   "outputs": [],
   "source": [
    "# Object Oriented Programming"
   ]
  },
  {
   "cell_type": "code",
   "execution_count": 23,
   "metadata": {},
   "outputs": [
    {
     "name": "stdout",
     "output_type": "stream",
     "text": [
      "5\n"
     ]
    }
   ],
   "source": [
    "class Myclass:\n",
    "    x = 5\n",
    "    \n",
    "p1 = Myclass()\n",
    "print(p1.x)"
   ]
  },
  {
   "cell_type": "code",
   "execution_count": 51,
   "metadata": {},
   "outputs": [
    {
     "name": "stdout",
     "output_type": "stream",
     "text": [
      "Corolla\n",
      "Civic\n",
      "My name is Muhammad Adil\n",
      "My name is Erdum\n",
      "Benz\n",
      "C100\n"
     ]
    }
   ],
   "source": [
    "class Car:\n",
    "    def __init__(self, Model_1, Model_2, Model_3, name):\n",
    "        self.Toyota = Model_1\n",
    "        self.Honda = Model_2\n",
    "        self.Suzuki = Model_3\n",
    "        self.name = name\n",
    "    \n",
    "    def my_name(self):\n",
    "        return(\"My name is \" + self.name)\n",
    "            \n",
    "c1 = Car(\"Corolla\", \"Civic\", \"Alto\", \"Muhammad Adil\")\n",
    "\n",
    "print(c1.Toyota)\n",
    "print(c1.Honda)\n",
    "print(c1.my_name())\n",
    "\n",
    "c1.name = \"Erdum\"\n",
    "print(c1.my_name())\n",
    "\n",
    "class Mercedes(Car):\n",
    "    def __init__(self, Model_1, Model_2, Model_3, name):\n",
    "        Car.__init__(self, Model_1, Model_2, Model_3, name)\n",
    "        self.Model_1 = Model_1\n",
    "        self.Model_2 = Model_2\n",
    "\n",
    "m1 = Mercedes(\"Benz\", \"C100\", \"C200\", \"C300\")\n",
    "print(m1.Model_1)\n",
    "print(m1.Model_2)"
   ]
  },
  {
   "cell_type": "code",
   "execution_count": null,
   "metadata": {},
   "outputs": [],
   "source": []
  }
 ],
 "metadata": {
  "kernelspec": {
   "display_name": "Python 3",
   "language": "python",
   "name": "python3"
  },
  "language_info": {
   "codemirror_mode": {
    "name": "ipython",
    "version": 3
   },
   "file_extension": ".py",
   "mimetype": "text/x-python",
   "name": "python",
   "nbconvert_exporter": "python",
   "pygments_lexer": "ipython3",
   "version": "3.8.5"
  }
 },
 "nbformat": 4,
 "nbformat_minor": 4
}
